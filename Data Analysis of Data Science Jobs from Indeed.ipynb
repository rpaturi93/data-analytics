{
 "cells": [
  {
   "cell_type": "markdown",
   "metadata": {
    "extensions": {
     "jupyter_dashboards": {
      "version": 1,
      "views": {
       "grid_default": {
        "hidden": true
       },
       "report_default": {}
      }
     }
    }
   },
   "source": [
    "#Individual Work\n",
    "\n",
    "Imported Data from DataScientistData.xlsx into a Dataframe named result.The State column is stripped to remove empty spaces.Also converted Education column to upper case.\n",
    "Please Note:\n",
    "1. Please run the code in the given order one by one.\n",
    "2. The plotly package is used to generate most of the graphs. The package needs authentication to run and even view maps.The instructions to get api_key to see the graphs is provided inline with the code. "
   ]
  },
  {
   "cell_type": "code",
   "execution_count": 1,
   "metadata": {
    "extensions": {
     "jupyter_dashboards": {
      "version": 1,
      "views": {
       "grid_default": {
        "col": 0,
        "height": 12,
        "hidden": false,
        "row": 0,
        "width": 11
       },
       "report_default": {}
      }
     }
    }
   },
   "outputs": [],
   "source": [
    "import pandas as pd\n",
    "result=pd.read_excel('DataScientistData.xlsx','Sheet1')#'Sheet1' matches exactly the sheet that we want to open. \n",
    "result['State']=result.State.str.strip()\n",
    "result['Education']=result.Education.str.upper()\n",
    "#result"
   ]
  },
  {
   "cell_type": "markdown",
   "metadata": {
    "extensions": {
     "jupyter_dashboards": {
      "version": 1,
      "views": {
       "grid_default": {
        "hidden": true
       },
       "report_default": {}
      }
     }
    }
   },
   "source": [
    "(1) The below code is used to create a bar chart which can be used to analyse the average salary for Data Scientist roles in different states of USA "
   ]
  },
  {
   "cell_type": "code",
   "execution_count": 4,
   "metadata": {
    "extensions": {
     "jupyter_dashboards": {
      "version": 1,
      "views": {
       "grid_default": {
        "col": 0,
        "height": 9,
        "hidden": false,
        "row": 12,
        "width": 4
       },
       "report_default": {}
      }
     }
    }
   },
   "outputs": [
    {
     "data": {
      "image/png": "[encoded data removed]",
      "text/plain": [
       "<Figure size 432x288 with 1 Axes>"
      ]
     },
     "metadata": {},
     "output_type": "display_data"
    }
   ],
   "source": [
    "import matplotlib.pyplot as plt\n",
    "import seaborn as sns\n",
    "\n",
    "analysis1=result.groupby(['State']).mean()>0 # Group by State and calculate mean.Consider records with avg >0\n",
    "analysis1=result.loc[result['Salary'] != 0] # Eliminating records with Salary=0\n",
    "analysis2=analysis1.groupby(['State'])['Salary'].mean().to_dict() # converting to dictionary\n",
    "\n",
    "plt.barh(range(len(analysis2)), list(analysis2.values()), align='center',color=['purple','orange', 'red', 'green', \n",
    "                                                                                'blue', 'magenta'])\n",
    "plt.yticks(range(len(analysis2)), list(analysis2.keys()))\n",
    "plt.xlabel(\"Average Salary in $\")\n",
    "plt.ylabel(\"State\")\n",
    "plt.title(\"Average Salary of a Data Scientist across different States\")\n",
    "plt.show()"
   ]
  },
  {
   "cell_type": "code",
   "execution_count": 5,
   "metadata": {
    "extensions": {
     "jupyter_dashboards": {
      "version": 1,
      "views": {
       "grid_default": {
        "hidden": true
       },
       "report_default": {}
      }
     }
    }
   },
   "outputs": [],
   "source": [
    "# plotly library asks for authentication to display the graphs everytime we reopen the file.\n",
    "# The below command must be run for every new session with username and api_key values.We have to regenerate the api_key\n",
    "#and paste the new api_key in the below command. The link to get the api key is https://plot.ly/settings/api. Username: rpaturi93,\n",
    "#password=Deloitte@2019\n",
    "\n",
    "import plotly \n",
    "plotly.tools.set_credentials_file(username='rpaturi93', api_key='jCLFvhIwCYbNM9tzOjL0')"
   ]
  },
  {
   "cell_type": "markdown",
   "metadata": {},
   "source": [
    "(2) The below code is used to create a bar chart which can be used to analyse the skills that are of High demand,Moderate\n",
    "demand, reduced demand and very low demand in industry of Data Scientist job market. Assumed the categories as High, Moderate, Reduced and Very less based the skill requirement for number of jobs."
   ]
  },
  {
   "cell_type": "code",
   "execution_count": 6,
   "metadata": {
    "extensions": {
     "jupyter_dashboards": {
      "version": 1,
      "views": {
       "grid_default": {
        "col": 11,
        "height": 16,
        "hidden": false,
        "row": 0,
        "width": null
       },
       "report_default": {}
      }
     }
    }
   },
   "outputs": [
    {
     "name": "stderr",
     "output_type": "stream",
     "text": [
      "C:\\Users\\Vamsi\\Anaconda3\\lib\\site-packages\\ipykernel_launcher.py:28: SettingWithCopyWarning:\n",
      "\n",
      "\n",
      "A value is trying to be set on a copy of a slice from a DataFrame\n",
      "\n",
      "See the caveats in the documentation: http://pandas.pydata.org/pandas-docs/stable/indexing.html#indexing-view-versus-copy\n",
      "\n",
      "C:\\Users\\Vamsi\\Anaconda3\\lib\\site-packages\\ipykernel_launcher.py:30: SettingWithCopyWarning:\n",
      "\n",
      "\n",
      "A value is trying to be set on a copy of a slice from a DataFrame\n",
      "\n",
      "See the caveats in the documentation: http://pandas.pydata.org/pandas-docs/stable/indexing.html#indexing-view-versus-copy\n",
      "\n",
      "C:\\Users\\Vamsi\\Anaconda3\\lib\\site-packages\\ipykernel_launcher.py:32: SettingWithCopyWarning:\n",
      "\n",
      "\n",
      "A value is trying to be set on a copy of a slice from a DataFrame\n",
      "\n",
      "See the caveats in the documentation: http://pandas.pydata.org/pandas-docs/stable/indexing.html#indexing-view-versus-copy\n",
      "\n",
      "C:\\Users\\Vamsi\\Anaconda3\\lib\\site-packages\\ipykernel_launcher.py:34: SettingWithCopyWarning:\n",
      "\n",
      "\n",
      "A value is trying to be set on a copy of a slice from a DataFrame\n",
      "\n",
      "See the caveats in the documentation: http://pandas.pydata.org/pandas-docs/stable/indexing.html#indexing-view-versus-copy\n",
      "\n"
     ]
    },
    {
     "data": {
      "application/vnd.jupyter.widget-view+json": {
       "model_id": "34dffb7888904cccbe7c16cf4f79de1d",
       "version_major": 2,
       "version_minor": 0
      },
      "text/plain": [
       "FigureWidget({\n",
       "    'data': [{'marker': {'color': 'red'},\n",
       "              'name': 'High Demand',\n",
       "              't…"
      ]
     },
     "metadata": {},
     "output_type": "display_data"
    }
   ],
   "source": [
    "import pandas as pd\n",
    "import plotly.plotly as py\n",
    "import plotly.graph_objs as go\n",
    "import collections\n",
    "from itertools import chain\n",
    "from collections import Counter\n",
    "\n",
    "skill_sets=result['Skill Set']\n",
    "skills=[]\n",
    "for i in range(len(skill_sets)):\n",
    "    strip_list=[s.strip() for s in str(skill_sets[i]).split(\",\")]\n",
    "    skills.append(strip_list) \n",
    "skill_items2 = list(chain(*skills))\n",
    "skill_items2 = [x for x in skill_items2 if str(x) != 'nan']\n",
    "freq = Counter(skill_items2)\n",
    "\n",
    "#using plotly package to plot most common skills from the Dataset\n",
    "sorted_freq_list = sorted(freq.items(), key=lambda kv: kv[1],reverse=True)\n",
    "sorted_freq_dict = collections.OrderedDict(sorted_freq_list)\n",
    "Colors_Df=pd.DataFrame(data=sorted_freq_list,columns=['Skill','No. of Jobs'])\n",
    "Colors_Df['Group']=' '\n",
    "colors={'High Demand': 'red',\n",
    "          'Moderate Demand': 'orange',\n",
    "          'Reduced Demand': 'lightgreen',\n",
    "          'Very Less Demand': 'darkgreen'}\n",
    "for i in range(len(Colors_Df['No. of Jobs'])):\n",
    "     if Colors_Df['No. of Jobs'][i] >25:\n",
    "        Colors_Df['Group'][i]='High Demand'\n",
    "     elif Colors_Df['No. of Jobs'][i] <=25 and Colors_Df['No. of Jobs'][i] >7:\n",
    "                          Colors_Df['Group'][i]='Moderate Demand'\n",
    "     elif Colors_Df['No. of Jobs'][i] <=7 and Colors_Df['No. of Jobs'][i] >3:\n",
    "                          Colors_Df['Group'][i]='Reduced Demand'\n",
    "     else:\n",
    "          Colors_Df['Group'][i]='Very Less Demand'\n",
    "#print(Colors_Df)\n",
    "bars=[]\n",
    "for label, label_df in Colors_Df.groupby('Group'):\n",
    "    bars.append(go.Bar(x=label_df['Skill'],\n",
    "                       y=label_df['No. of Jobs'],\n",
    "                       name=label,\n",
    "                       marker={'color': colors[label]}))\n",
    "layout = go.Layout(\n",
    "    title='Skills needed for Data Scientist roles',\n",
    "    xaxis=dict(\n",
    "        title='Skill',\n",
    "        tickfont=dict(\n",
    "            size=15,\n",
    "            color='rgb(107, 107, 107)'\n",
    "        )\n",
    "    ),\n",
    "    yaxis=dict(\n",
    "        title='No. of jobs',\n",
    "        titlefont=dict(\n",
    "            size=16,\n",
    "            color='rgb(107, 107, 107)'\n",
    "        ),\n",
    "        tickfont=dict(\n",
    "            size=14,\n",
    "            color='rgb(107, 107, 107)'\n",
    "        )\n",
    "    )\n",
    ")\n",
    "go.FigureWidget(data=bars,layout=layout)\n",
    "#bars"
   ]
  },
  {
   "cell_type": "markdown",
   "metadata": {
    "extensions": {
     "jupyter_dashboards": {
      "version": 1,
      "views": {
       "grid_default": {
        "hidden": true
       },
       "report_default": {}
      }
     }
    }
   },
   "source": [
    "(3) The purpose of below program is to get the Latitude and Longitude positions of different cities in our data.\n",
    "This code needs the geopy library installed for it to run."
   ]
  },
  {
   "cell_type": "code",
   "execution_count": 8,
   "metadata": {
    "extensions": {
     "jupyter_dashboards": {
      "version": 1,
      "views": {
       "grid_default": {
        "hidden": true
       },
       "report_default": {}
      }
     }
    }
   },
   "outputs": [
    {
     "name": "stderr",
     "output_type": "stream",
     "text": [
      "C:\\Users\\Vamsi\\Anaconda3\\lib\\site-packages\\ipykernel_launcher.py:12: DeprecationWarning:\n",
      "\n",
      "Using Nominatim with the default \"geopy/1.19.0\" `user_agent` is strongly discouraged, as it violates Nominatim's ToS https://operations.osmfoundation.org/policies/nominatim/ and may possibly cause 403 and 429 HTTP errors. Please specify a custom `user_agent` with `Nominatim(user_agent=\"my-application\")` or by overriding the default `user_agent`: `geopy.geocoders.options.default_user_agent = \"my-application\"`. In geopy 2.0 this will become an exception.\n",
      "\n"
     ]
    }
   ],
   "source": [
    "import pandas as pd\n",
    "from geopy.geocoders import Nominatim\n",
    "\n",
    "analysis=result.groupby(['City'])['Job Title'].count()\n",
    "k=analysis.to_dict()\n",
    "City_list=k.keys()\n",
    "Count_of_Jobs=k.values()\n",
    "data_tuples = list(zip(City_list,Count_of_Jobs))\n",
    "df = pd.DataFrame(data_tuples,columns=['City','No. of Jobs'])\n",
    "#print(df)\n",
    "cities = k\n",
    "geolocator = Nominatim()\n",
    "lon=[]\n",
    "lat=[]\n",
    "for key in City_list:\n",
    "    loc = geolocator.geocode(key)\n",
    "    lon.append(loc.longitude)\n",
    "    lat.append(loc.latitude)\n",
    "df['lon']=lon\n",
    "df['lat']=lat"
   ]
  },
  {
   "cell_type": "markdown",
   "metadata": {},
   "source": [
    "(4) The below code is used to generate a plot the cities of USA where Datascientist jobs are available.\n",
    "It is used to analyse the concentrations of Datascientist jobs in different cities of USA. The saturation matrix indicates\n",
    "the colors of the cities. Its near to blue if more number of jobs are available in that particular city."
   ]
  },
  {
   "cell_type": "code",
   "execution_count": 9,
   "metadata": {
    "extensions": {
     "jupyter_dashboards": {
      "version": 1,
      "views": {
       "grid_default": {
        "col": 4,
        "height": 19,
        "hidden": false,
        "row": 16,
        "width": 4
       },
       "report_default": {}
      }
     }
    }
   },
   "outputs": [
    {
     "data": {
      "text/html": [
       "<iframe id=\"igraph\" scrolling=\"no\" style=\"border:none;\" seamless=\"seamless\" src=\"https://plot.ly/~rpaturi93/102.embed\" height=\"525px\" width=\"100%\"></iframe>"
      ],
      "text/plain": [
       "<chart_studio.tools.PlotlyDisplay object>"
      ]
     },
     "execution_count": 9,
     "metadata": {},
     "output_type": "execute_result"
    }
   ],
   "source": [
    "import plotly.plotly as py\n",
    "import plotly.graph_objs as go\n",
    "\n",
    "import pandas as pd\n",
    "df['text'] = df['City'] + ':' + df['No. of Jobs'].astype(str)\n",
    "data = [ go.Scattergeo(\n",
    "        locationmode = 'USA-states',\n",
    "        lon = df['lon'],\n",
    "        lat = df['lat'],\n",
    "        text = df['text'],\n",
    "        mode = 'markers',\n",
    "        marker = dict( \n",
    "            size = 8, \n",
    "            opacity = 0.8,\n",
    "            reversescale = True,\n",
    "            autocolorscale = False,\n",
    "            symbol = 'circle',\n",
    "            line = dict(\n",
    "                width=1,\n",
    "                color='rgba(102, 102, 102)'\n",
    "            ),\n",
    "            #colorscale = scl,\n",
    "            cmin = 0,\n",
    "            color = df['No. of Jobs'],\n",
    "            cmax = df['No. of Jobs'].max(),\n",
    "            colorbar=dict(\n",
    "                title=\"\"\n",
    "            )\n",
    "        ))]\n",
    "\n",
    "layout = dict(\n",
    "        title = 'Cities with Data Scientist Jobs<br>(Hover for city names and number of jobs)', \n",
    "        geo = dict(\n",
    "            scope='usa',\n",
    "            projection=dict( type='albers usa' ),\n",
    "            showland = True,\n",
    "            landcolor = \"rgb(250, 250, 250)\",\n",
    "            subunitcolor = \"rgb(217, 217, 217)\",\n",
    "            countrycolor = \"rgb(217, 217, 217)\",\n",
    "            countrywidth = 0.5,\n",
    "            subunitwidth = 0.5        \n",
    "        ),\n",
    "    )\n",
    "\n",
    "fig = go.Figure(data=data, layout=layout )\n",
    "py.iplot(fig)"
   ]
  },
  {
   "cell_type": "markdown",
   "metadata": {},
   "source": [
    "(5) The below code is used to generate a heatmap of USA country which is used to analyse the concentrations of Datascientist jobs \n",
    "in different states of USA."
   ]
  },
  {
   "cell_type": "code",
   "execution_count": 10,
   "metadata": {
    "extensions": {
     "jupyter_dashboards": {
      "version": 1,
      "views": {
       "grid_default": {
        "hidden": true
       },
       "report_default": {}
      }
     }
    }
   },
   "outputs": [
    {
     "name": "stderr",
     "output_type": "stream",
     "text": [
      "C:\\Users\\Vamsi\\Anaconda3\\lib\\site-packages\\plotly\\graph_objs\\_deprecations.py:39: DeprecationWarning:\n",
      "\n",
      "plotly.graph_objs.Data is deprecated.\n",
      "Please replace it with a list or tuple of instances of the following types\n",
      "  - plotly.graph_objs.Scatter\n",
      "  - plotly.graph_objs.Bar\n",
      "  - plotly.graph_objs.Area\n",
      "  - plotly.graph_objs.Histogram\n",
      "  - etc.\n",
      "\n",
      "\n"
     ]
    },
    {
     "data": {
      "text/html": [
       "<iframe id=\"igraph\" scrolling=\"no\" style=\"border:none;\" seamless=\"seamless\" src=\"https://plot.ly/~rpaturi93/104.embed\" height=\"525px\" width=\"100%\"></iframe>"
      ],
      "text/plain": [
       "<chart_studio.tools.PlotlyDisplay object>"
      ]
     },
     "execution_count": 10,
     "metadata": {},
     "output_type": "execute_result"
    }
   ],
   "source": [
    "import plotly.plotly as py\n",
    "from plotly.graph_objs import *\n",
    "\n",
    "analysis4=result.groupby(['State'])['Job Title'].count()\n",
    "k=analysis4.to_dict()\n",
    "States=list(k.keys())\n",
    "Counts=list(k.values())\n",
    "trace1 = {\n",
    "  \"z\":Counts,\n",
    "  \"autocolorscale\": False, \n",
    "  \"colorbar\": {\"title\": \"Saturation Matrix\"}, \n",
    "  \"locationmode\": \"USA-states\", \n",
    "  \"locations\": States,\n",
    "  \"type\": \"choropleth\"\n",
    "}\n",
    "data = Data([trace1])\n",
    "layout = {\n",
    "  \"geo\": {\n",
    "    \"lakecolor\": \"rgb(66,165,245)\", \n",
    "    \"projection\": {\"type\": \"albers usa\"}, \n",
    "    \"scope\": \"usa\", \n",
    "  }, \n",
    "  \"title\": \"Data Scientists Job postings in different states of USA(Hover over for more info)\"\n",
    "}\n",
    "fig = Figure(data=data, layout=layout)\n",
    "py.iplot(fig)\n",
    "#plot_url = py.plot(fig)"
   ]
  },
  {
   "cell_type": "markdown",
   "metadata": {},
   "source": [
    "(6) The below code is used to create a barchart, used to analyse the number of Datascientist jobs in comparison with other jobs like Data Analyst, Business Analyst etc. in different states"
   ]
  },
  {
   "cell_type": "code",
   "execution_count": 11,
   "metadata": {
    "extensions": {
     "jupyter_dashboards": {
      "version": 1,
      "views": {
       "grid_default": {
        "col": 8,
        "height": 19,
        "hidden": false,
        "row": 16,
        "width": 4
       },
       "report_default": {}
      }
     }
    }
   },
   "outputs": [
    {
     "data": {
      "text/html": [
       "<iframe id=\"igraph\" scrolling=\"no\" style=\"border:none;\" seamless=\"seamless\" src=\"https://plot.ly/~rpaturi93/106.embed\" height=\"525px\" width=\"100%\"></iframe>"
      ],
      "text/plain": [
       "<chart_studio.tools.PlotlyDisplay object>"
      ]
     },
     "execution_count": 11,
     "metadata": {},
     "output_type": "execute_result"
    }
   ],
   "source": [
    "# Data Scientists versus other Data jobs\n",
    "result_all_data=pd.read_excel('612_dataframe.xlsx','Sheet1')#'Sheet1' matches exactly the sheet that we want to open. \n",
    "result_all_data=result_all_data.apply(lambda x:x.str.strip() if x.dtype==\"object\" else x)\n",
    "\n",
    "#creating two dataframes, one with data scientist roles and the other with other job roles.\n",
    "analysis5=result_all_data[result_all_data['Job Title'].str.contains(\"Data Scientist|data scientist|Data Science|DATA SCIENTIST\")]\n",
    "analysis6=result_all_data[~result_all_data['Job Title'].str.contains(\"Data Scientist|data scientist|DATA SCIENTIST|Data Science\")]\n",
    "\n",
    "#grouping the records based on States and counting the number of jobs\n",
    "temp=analysis5.groupby(['State'])['Job Title'].count()\n",
    "temp=temp.to_dict() # converting to dictionary objects\n",
    "temp3=analysis6.groupby(['State'])['Job Title'].count()\n",
    "temp3=temp3.to_dict() # converting to dictionary objects\n",
    "\n",
    "sorted_freq_list1 = sorted(temp.items(), key=lambda kv: kv[1],reverse=True) # sorting the list\n",
    "sorted_freq_dict1 = collections.OrderedDict(sorted_freq_list1)\n",
    "\n",
    "State_list=sorted_freq_dict1.keys()\n",
    "Count_of_Jobs_DS=sorted_freq_dict1.values()\n",
    "\n",
    "data_tuples = list(zip(State_list,Count_of_Jobs_DS)) # converting the tuples into list\n",
    "df = pd.DataFrame(data_tuples,columns=['State','No. of Data Scientist Jobs'])\n",
    "df=df[~df['State'].str.contains(\"United States\")] # filtering records with United States in the state column\n",
    "df=df.head(15) # getting the top 15 records\n",
    "\n",
    "sorted_freq_list2 = sorted(temp3.items(), key=lambda kv: kv[1],reverse=True)\n",
    "sorted_freq_dict2 = collections.OrderedDict(sorted_freq_list2)\n",
    "\n",
    "data_tuples2 = list(zip(sorted_freq_dict2.keys(),sorted_freq_dict2.values()))\n",
    "df2 = pd.DataFrame(data_tuples2,columns=['States with Data Jobs','No. of Data Jobs'])\n",
    "df2=df2[~df2['States with Data Jobs'].str.contains(\"United States\")]\n",
    "df2=df2.head(15)\n",
    "\n",
    "#plotting the graph\n",
    "trace1 = go.Bar(\n",
    "    x=df2['States with Data Jobs'],\n",
    "    y=df2['No. of Data Jobs'],\n",
    "    textposition = 'auto',\n",
    "    name='Other Data jobs',\n",
    "    marker=dict(\n",
    "        color='rgb(26, 118, 255)',\n",
    "        line=dict(\n",
    "            color='rgb(29,48,107)',\n",
    "            width=1.5),\n",
    "        ),\n",
    ")\n",
    "\n",
    "trace2 = go.Bar(\n",
    "    x=df['State'],\n",
    "    y=df['No. of Data Scientist Jobs'],\n",
    "    textposition = 'auto',\n",
    "    name='Data Scientist',\n",
    "    marker=dict(\n",
    "        color='rgb(55, 83, 109)',\n",
    "        line=dict(\n",
    "            color='rgb(55, 83, 109)',\n",
    "            width=1.5),\n",
    "        ),\n",
    ")\n",
    "\n",
    "data = [trace1,trace2]\n",
    "layout = go.Layout(\n",
    "    title='Number of Jobs in different States: Data Scientist vs Other Data Jobs',\n",
    "    xaxis=dict(\n",
    "        title='State',\n",
    "        tickfont=dict(\n",
    "            size=14,\n",
    "            color='rgb(107, 107, 107)'\n",
    "        )\n",
    "    ),\n",
    "    yaxis=dict(\n",
    "        title='No. of jobs',\n",
    "        titlefont=dict(\n",
    "            size=16,\n",
    "            color='rgb(107, 107, 107)'\n",
    "        ),\n",
    "        tickfont=dict(\n",
    "            size=14,\n",
    "            color='rgb(107, 107, 107)'\n",
    "        )\n",
    "    ),\n",
    "    legend=dict(\n",
    "        x=1.0,\n",
    "        y=1.0,\n",
    "        bgcolor='rgba(255, 255, 255, 0)',\n",
    "        bordercolor='rgba(255, 255, 255, 0)'\n",
    "    ),\n",
    "    barmode='group',\n",
    "    bargap=0.15,\n",
    "    bargroupgap=0.1\n",
    ")\n",
    "fig = go.Figure(data=data, layout=layout)\n",
    "py.iplot(fig)"
   ]
  },
  {
   "cell_type": "markdown",
   "metadata": {},
   "source": [
    "(7) The below code is used to generate a heat map of a pivot table showing the number of jobs\n",
    "with different experience requirements in different states."
   ]
  },
  {
   "cell_type": "code",
   "execution_count": 12,
   "metadata": {
    "extensions": {
     "jupyter_dashboards": {
      "version": 1,
      "views": {
       "grid_default": {
        "col": 0,
        "height": 7,
        "hidden": false,
        "row": 21,
        "width": 4
       },
       "report_default": {}
      }
     }
    }
   },
   "outputs": [
    {
     "data": {
      "image/png": "[encoded data removed]",
      "text/plain": [
       "<Figure size 864x432 with 1 Axes>"
      ]
     },
     "metadata": {},
     "output_type": "display_data"
    }
   ],
   "source": [
    "# Pivot table states,experience- salary\n",
    "import seaborn as sns\n",
    "import matplotlib.pyplot as plt\n",
    "\n",
    "filtered_result=result.loc[result['Experience'] != 0]\n",
    "fig, ax = plt.subplots(figsize=(12,6))\n",
    "\n",
    "# heatmap of pivot table\n",
    "ax=sns.heatmap(pd.crosstab(filtered_result['Experience'],filtered_result['State'],margins=True),\n",
    "            cmap=\"YlGnBu\",annot=True, cbar=False)\n",
    "\n",
    "ax.set_title('Number of Data Scientist jobs in different States based on Experience', fontsize=16, fontdict={})\n",
    "plt.xticks(fontsize=\"10\")\n",
    "plt.xlabel(\"State\",fontsize=\"14\")\n",
    "plt.yticks(rotation=0, fontsize=\"10\", va=\"center\")\n",
    "plt.ylabel(\"Experience\",fontsize=\"14\")\n",
    "plt.show()\n"
   ]
  },
  {
   "cell_type": "code",
   "execution_count": null,
   "metadata": {
    "extensions": {
     "jupyter_dashboards": {
      "version": 1,
      "views": {
       "grid_default": {
        "hidden": true
       },
       "report_default": {}
      }
     }
    }
   },
   "outputs": [],
   "source": []
  }
 ],
 "metadata": {
  "extensions": {
   "jupyter_dashboards": {
    "activeView": "grid_default",
    "version": 1,
    "views": {
     "grid_default": {
      "cellMargin": 10,
      "defaultCellHeight": 20,
      "maxColumns": 12,
      "name": "grid",
      "type": "grid"
     },
     "report_default": {
      "name": "report",
      "type": "report"
     }
    }
   }
  },
  "kernelspec": {
   "display_name": "Python 3",
   "language": "python",
   "name": "python3"
  },
  "language_info": {
   "codemirror_mode": {
    "name": "ipython",
    "version": 3
   },
   "file_extension": ".py",
   "mimetype": "text/x-python",
   "name": "python",
   "nbconvert_exporter": "python",
   "pygments_lexer": "ipython3",
   "version": "3.6.5"
  }
 },
 "nbformat": 4,
 "nbformat_minor": 2
}
